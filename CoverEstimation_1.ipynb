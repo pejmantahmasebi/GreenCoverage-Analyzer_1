{
 "cells": [
  {
   "cell_type": "markdown",
   "id": "250be2be",
   "metadata": {},
   "source": [
    "GreenCoverage Analyzer-1: \n",
    "A Python tool for estimating vegetation coverage percentage in images using advanced image processing and color filtering in HSV and LAB color spaces."
   ]
  },
  {
   "cell_type": "code",
   "execution_count": null,
   "id": "80da046a",
   "metadata": {
    "vscode": {
     "languageId": "plaintext"
    }
   },
   "outputs": [],
   "source": [
    "\n",
    "import cv2\n",
    "import numpy as np\n",
    "\n",
    "\n",
    "# 1. Load image with user-defined path\n",
    "image_path = input(\"Please enter the image path: \").strip().strip('\"')\n",
    "image = cv2.imread(image_path) \n",
    "\n",
    "\n",
    "\n",
    "# 2. Convert to LAB and HSV color spaces\n",
    "hsv = cv2.cvtColor(image, cv2.COLOR_BGR2HSV)\n",
    "lab = cv2.cvtColor(image, cv2.COLOR_BGR2LAB)\n",
    "\n",
    "# 3. Define different green ranges\n",
    "# Your custom green ranges in HSV\n",
    "# lower_green1 = np.array([YOUR_H_MIN, YOUR_S_MIN, YOUR_V_MIN])\n",
    "# upper_green1 = np.array([YOUR_H_MAX, YOUR_S_MAX, YOUR_V_MAX])\n",
    "\n",
    "# Your custom dark green ranges\n",
    "# lower_green2 = np.array([YOUR_H_MIN2, YOUR_S_MIN2, YOUR_V_MIN2])\n",
    "# upper_green2 = np.array([YOUR_H_MAX2, YOUR_S_MAX2, YOUR_V_MAX2])\n",
    "\n",
    "# Your custom LAB ranges for special vegetation\n",
    "# lower_brownish_green = np.array([YOUR_L_MIN, YOUR_A_MIN, YOUR_B_MIN])\n",
    "# upper_brownish_green = np.array([YOUR_L_MAX, YOUR_A_MAX, YOUR_B_MAX])\n",
    "# hsv = cv2.cvtColor(image, cv2.COLOR_BGR2HSV)\n",
    "# lab = cv2.cvtColor(image, cv2.COLOR_BGR2LAB)\n",
    "\n",
    "# Example with custom values for specific vegetation:\n",
    "# Standard greens (jade and light) in HSV\n",
    "lower_green1 = np.array([35, 40, 40])\n",
    "upper_green1 = np.array([85, 255, 255])\n",
    "\n",
    "# Dark and blueish greens in HSV\n",
    "lower_green2 = np.array([25, 30, 20])\n",
    "upper_green2 = np.array([95, 255, 150])\n",
    "\n",
    "# Brownish/earthy greens (in LAB space)\n",
    "lower_brownish_green = np.array([70, 110, 110])\n",
    "upper_brownish_green = np.array([100, 150, 150])\n",
    "\n",
    "# 4. Create combined masks\n",
    "mask1 = cv2.inRange(hsv, lower_green1, upper_green1)\n",
    "mask2 = cv2.inRange(hsv, lower_green2, upper_green2)\n",
    "mask3 = cv2.inRange(lab, lower_brownish_green, upper_brownish_green)\n",
    "\n",
    "# 5. Combine masks\n",
    "final_mask = cv2.bitwise_or(mask1, mask2)\n",
    "final_mask = cv2.bitwise_or(final_mask, mask3)\n",
    "\n",
    "# 6. Morphological processing to improve results\n",
    "kernel = np.ones((5,5), np.uint8)\n",
    "final_mask = cv2.morphologyEx(final_mask, cv2.MORPH_CLOSE, kernel)\n",
    "final_mask = cv2.morphologyEx(final_mask, cv2.MORPH_OPEN, kernel)\n",
    "\n",
    "# 7. Calculate coverage percentage\n",
    "total_pixels = image.shape[0] * image.shape[1]\n",
    "green_pixels = cv2.countNonZero(final_mask)\n",
    "coverage = (green_pixels / total_pixels) * 100\n",
    "\n",
    "print(f\"Total green coverage percentage: {coverage:.2f}%\")"
   ]
  }
 ],
 "metadata": {
  "language_info": {
   "name": "python"
  }
 },
 "nbformat": 4,
 "nbformat_minor": 5
}
